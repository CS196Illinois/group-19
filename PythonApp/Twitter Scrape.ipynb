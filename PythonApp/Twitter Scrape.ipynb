{
 "cells": [
  {
   "cell_type": "code",
   "execution_count": 1,
   "metadata": {
    "collapsed": true
   },
   "outputs": [],
   "source": [
    "import re\n",
    "import csv\n",
    "import json\n",
    "import tweepy"
   ]
  },
  {
   "cell_type": "code",
   "execution_count": 2,
   "outputs": [],
   "source": [
    "def search_for_hashtags(consumer_key, consumer_secret, access_token,\n",
    "                        access_token_secret, hashtag_phrase):\n",
    "\n",
    "    # Create Authentication for using Twitter\n",
    "    auth = tweepy.OAuthHandler(consumer_key, consumer_secret)\n",
    "    auth.set_access_token(access_token, access_token_secret)\n",
    "\n",
    "    # Initialize tweepy API\n",
    "    api = tweepy.API(auth)\n",
    "\n",
    "    # Create file for information\n",
    "    file_name = '_'.join(re.findall(r\"#(\\w+)\", hashtag_phrase))\n",
    "\n",
    "    with open('%s.csv' % file_name, 'wb') as file:\n",
    "\n",
    "        w = csv.writer(file)\n",
    "\n",
    "        # Write header row to file\n",
    "        w.writerow(['timestamp', 'tweet_text', 'username', 'all_hashtags', 'followers_count'])\n",
    "        for tweet in tweepy.Cursor(api.search, q=hashtag_phrase+' -filter:retweets',\n",
    "                                   lang='en', tweet_mode='extended').items(100):\n",
    "            w.writerow([tweet.created_at, tweet.full_text.replace('\\n',' ').encode('utf-8'),\n",
    "                        tweet.user.screen_name.encode('utf-8'),\n",
    "                        [e['text'] for e in tweet._json['entities']['hashtags']], tweet.user.followers_count])"
   ],
   "metadata": {
    "collapsed": false,
    "pycharm": {
     "name": "#%%\n"
    }
   }
  },
  {
   "cell_type": "code",
   "execution_count": 3,
   "outputs": [
    {
     "ename": "TypeError",
     "evalue": "a bytes-like object is required, not 'str'",
     "output_type": "error",
     "traceback": [
      "\u001B[0;31m---------------------------------------------------------------------------\u001B[0m",
      "\u001B[0;31mTypeError\u001B[0m                                 Traceback (most recent call last)",
      "\u001B[0;32m<ipython-input-3-3322bf01c1de>\u001B[0m in \u001B[0;36m<module>\u001B[0;34m\u001B[0m\n\u001B[1;32m      7\u001B[0m \u001B[0;34m\u001B[0m\u001B[0m\n\u001B[1;32m      8\u001B[0m \u001B[0;32mif\u001B[0m \u001B[0m__name__\u001B[0m \u001B[0;34m==\u001B[0m \u001B[0;34m'__main__'\u001B[0m\u001B[0;34m:\u001B[0m\u001B[0;34m\u001B[0m\u001B[0;34m\u001B[0m\u001B[0m\n\u001B[0;32m----> 9\u001B[0;31m     \u001B[0msearch_for_hashtags\u001B[0m\u001B[0;34m(\u001B[0m\u001B[0mconsumer_key\u001B[0m\u001B[0;34m,\u001B[0m \u001B[0mconsumer_secret\u001B[0m\u001B[0;34m,\u001B[0m \u001B[0maccess_token\u001B[0m\u001B[0;34m,\u001B[0m \u001B[0maccess_token_secret\u001B[0m\u001B[0;34m,\u001B[0m \u001B[0mhashtag_phrase\u001B[0m\u001B[0;34m)\u001B[0m\u001B[0;34m\u001B[0m\u001B[0;34m\u001B[0m\u001B[0m\n\u001B[0m",
      "\u001B[0;32m<ipython-input-2-bca114314dd4>\u001B[0m in \u001B[0;36msearch_for_hashtags\u001B[0;34m(consumer_key, consumer_secret, access_token, access_token_secret, hashtag_phrase)\u001B[0m\n\u001B[1;32m     17\u001B[0m \u001B[0;34m\u001B[0m\u001B[0m\n\u001B[1;32m     18\u001B[0m         \u001B[0;31m# Write header row to file\u001B[0m\u001B[0;34m\u001B[0m\u001B[0;34m\u001B[0m\u001B[0;34m\u001B[0m\u001B[0m\n\u001B[0;32m---> 19\u001B[0;31m         \u001B[0mw\u001B[0m\u001B[0;34m.\u001B[0m\u001B[0mwriterow\u001B[0m\u001B[0;34m(\u001B[0m\u001B[0;34m[\u001B[0m\u001B[0;34m'timestamp'\u001B[0m\u001B[0;34m,\u001B[0m \u001B[0;34m'tweet_text'\u001B[0m\u001B[0;34m,\u001B[0m \u001B[0;34m'username'\u001B[0m\u001B[0;34m,\u001B[0m \u001B[0;34m'all_hashtags'\u001B[0m\u001B[0;34m,\u001B[0m \u001B[0;34m'followers_count'\u001B[0m\u001B[0;34m]\u001B[0m\u001B[0;34m)\u001B[0m\u001B[0;34m\u001B[0m\u001B[0;34m\u001B[0m\u001B[0m\n\u001B[0m\u001B[1;32m     20\u001B[0m         for tweet in tweepy.Cursor(api.search, q=hashtag_phrase+' -filter:retweets',\n\u001B[1;32m     21\u001B[0m                                    lang='en', tweet_mode='extended').items(100):\n",
      "\u001B[0;31mTypeError\u001B[0m: a bytes-like object is required, not 'str'"
     ]
    }
   ],
   "source": [
    "\n",
    "consumer_key = input(\"Consumer Key: \")\n",
    "consumer_secret = input(\"Secret Consumer Key: \")\n",
    "access_token = input(\"Access Token: \")\n",
    "access_token_secret = input(\"Secret Access Token: \")\n",
    "\n",
    "hashtag_phrase = input(\"Hashtag Phrase: \")\n",
    "\n",
    "if __name__ == '__main__':\n",
    "    search_for_hashtags(consumer_key, consumer_secret, access_token, access_token_secret, hashtag_phrase)"
   ],
   "metadata": {
    "collapsed": false,
    "pycharm": {
     "name": "#%%\n"
    }
   }
  },
  {
   "cell_type": "code",
   "execution_count": null,
   "outputs": [],
   "source": [],
   "metadata": {
    "collapsed": false,
    "pycharm": {
     "name": "#%%\n"
    }
   }
  }
 ],
 "metadata": {
  "kernelspec": {
   "display_name": "Python 3",
   "language": "python",
   "name": "python3"
  },
  "language_info": {
   "codemirror_mode": {
    "name": "ipython",
    "version": 2
   },
   "file_extension": ".py",
   "mimetype": "text/x-python",
   "name": "python",
   "nbconvert_exporter": "python",
   "pygments_lexer": "ipython2",
   "version": "2.7.6"
  }
 },
 "nbformat": 4,
 "nbformat_minor": 0
}