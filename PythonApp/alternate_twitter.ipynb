{
 "metadata": {
  "language_info": {
   "codemirror_mode": {
    "name": "ipython",
    "version": 3
   },
   "file_extension": ".py",
   "mimetype": "text/x-python",
   "name": "python",
   "nbconvert_exporter": "python",
   "pygments_lexer": "ipython3",
   "version": "3.8.3-final"
  },
  "orig_nbformat": 2,
  "kernelspec": {
   "name": "python3",
   "display_name": "Python 3"
  }
 },
 "nbformat": 4,
 "nbformat_minor": 2,
 "cells": [
  {
   "cell_type": "code",
   "execution_count": 6,
   "metadata": {},
   "outputs": [],
   "source": [
    "import tweepy\n",
    "import pandas as pd\n",
    "import time"
   ]
  },
  {
   "cell_type": "code",
   "execution_count": 9,
   "metadata": {},
   "outputs": [],
   "source": [
    "consumer_key = 'pYoPARudnBJeg6VOos87eRL1I'\n",
    "consumer_secret = '8fubRmzWeS8Iaor9KHDfgMivDEMsjGKPf64nZre9EnV2IWHnvU'\n",
    "access_token = '1084201829574025216-CXaPUE2YuXjktqm5Nv38J6vOBnrWwa'\n",
    "access_token_secret = '93p0ncmmuiyqmGlyZO9uvFJhtKV7N5y0Qgr6voI7SWpARN'\n",
    "\n",
    "auth = tweepy.OAuthHandler(consumer_key, consumer_secret)\n",
    "auth.set_access_token(access_token, access_token_secret)\n",
    "api = tweepy.API(auth, wait_on_rate_limit=True)"
   ]
  },
  {
   "cell_type": "code",
   "execution_count": 12,
   "metadata": {},
   "outputs": [
    {
     "output_type": "stream",
     "name": "stdout",
     "text": [
      "failed with status: Twitter error response: status code = 401\n"
     ]
    }
   ],
   "source": [
    "text_query = '2020 US Election'\n",
    "count = 150\n",
    "\n",
    "try: \n",
    "    tweets = tweepy.Cursor(api.search, q=text_query).items(count)\n",
    "\n",
    "    tweets_list = [[tweet.created_at, tweet.id, tweet.text] for tweet in tweets]\n",
    "\n",
    "    tweets_df = pd.DataFrame(tweets_list)\n",
    "\n",
    "except BaseException as e:\n",
    "    print('failed with status: ' + str(e))\n",
    "    time.sleep(3)"
   ]
  }
 ]
}