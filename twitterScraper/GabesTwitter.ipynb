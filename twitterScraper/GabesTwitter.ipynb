{
 "cells": [
  {
   "cell_type": "code",
   "execution_count": null,
   "outputs": [],
   "source": [
    "from tweepy import API\n",
    "from tweepy import Stream\n",
    "from tweepy import OAuthHandler\n",
    "from tweepy.streaming import StreamListener\n",
    "\n",
    "consumer_key = 'pYoPARudnBJeg6VOos87eRL1I'\n",
    "consumer_secret_key = '8fubRmzWeS8Iaor9KHDfgMivDEMsjGKPf64nZre9EnV2IWHnvU'\n",
    "access_key = 'EMuVRHgtJj0yby1cPFgOavtdSJJQwfkdZOcn4IxjShfyQ'\n",
    "access_key_secret = 'EMuVRHgtJj0yby1cPFgOavtdSJJQwfkdZOcn4IxjShfyQ'\n",
    "\n",
    "auth = OAuthHandler(consumer_key, consumer_secret_key)\n",
    "auth.set_access_token(access_key, access_key_secret)\n",
    "api = API(auth)"
   ],
   "metadata": {
    "collapsed": false,
    "pycharm": {
     "name": "#%%\n",
     "is_executing": true
    }
   }
  },
  {
   "cell_type": "code",
   "execution_count": null,
   "outputs": [],
   "source": [
    "class MyStreamListener(StreamListener):\n",
    "    def on_data(self, data):\n",
    "        print(data)\n",
    "        return True\n",
    "\n",
    "    def on_error(self, status_code):\n",
    "        if status_code == 420:\n",
    "            return False\n",
    "        print(status_code.text)\n",
    "\n",
    "    def on_status(self, status):\n",
    "        print(status.text)\n",
    "\n",
    "stream = Stream(auth, MyStreamListener())\n",
    "\n",
    "t = \"gabrielkosmacher\"\n",
    "\n",
    "myStreamListener = MyStreamListener()\n",
    "myStream = Stream(auth = api.auth, listener=myStreamListener, );\n",
    "myStream.filter(follow=['gabrielkosmacher'])\n"
   ],
   "metadata": {
    "collapsed": false,
    "pycharm": {
     "name": "#%%\n",
     "is_executing": true
    }
   }
  },
  {
   "cell_type": "code",
   "execution_count": null,
   "outputs": [],
   "source": [],
   "metadata": {
    "collapsed": false,
    "pycharm": {
     "name": "#%%\n"
    }
   }
  }
 ],
 "metadata": {
  "kernelspec": {
   "display_name": "Python 3",
   "language": "python",
   "name": "python3"
  },
  "language_info": {
   "codemirror_mode": {
    "name": "ipython",
    "version": 2
   },
   "file_extension": ".py",
   "mimetype": "text/x-python",
   "name": "python",
   "nbconvert_exporter": "python",
   "pygments_lexer": "ipython2",
   "version": "2.7.6"
  }
 },
 "nbformat": 4,
 "nbformat_minor": 0
}